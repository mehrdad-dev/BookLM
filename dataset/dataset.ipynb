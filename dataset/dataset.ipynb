{
 "cells": [
  {
   "cell_type": "code",
   "execution_count": 36,
   "id": "1862608e",
   "metadata": {},
   "outputs": [],
   "source": [
    "import pandas as pd\n",
    "\n",
    "df = pd.read_csv(\"books_1.Best_Books_Ever.csv\")"
   ]
  },
  {
   "cell_type": "code",
   "execution_count": 37,
   "id": "2a1076fa",
   "metadata": {},
   "outputs": [],
   "source": [
    "df.drop(columns=['series', 'isbn', 'firstPublishDate', 'numRatings', \n",
    "                 'ratingsByStars', 'setting', 'bbeScore', 'bbeVotes', \n",
    "                 'price', 'bookFormat', 'edition', 'pages', 'publishDate'\n",
    "                 ], inplace=True)"
   ]
  },
  {
   "cell_type": "code",
   "execution_count": 38,
   "id": "e1d4d9b4",
   "metadata": {},
   "outputs": [
    {
     "data": {
      "text/html": [
       "<div>\n",
       "<style scoped>\n",
       "    .dataframe tbody tr th:only-of-type {\n",
       "        vertical-align: middle;\n",
       "    }\n",
       "\n",
       "    .dataframe tbody tr th {\n",
       "        vertical-align: top;\n",
       "    }\n",
       "\n",
       "    .dataframe thead th {\n",
       "        text-align: right;\n",
       "    }\n",
       "</style>\n",
       "<table border=\"1\" class=\"dataframe\">\n",
       "  <thead>\n",
       "    <tr style=\"text-align: right;\">\n",
       "      <th></th>\n",
       "      <th>bookId</th>\n",
       "      <th>title</th>\n",
       "      <th>author</th>\n",
       "      <th>rating</th>\n",
       "      <th>description</th>\n",
       "      <th>language</th>\n",
       "      <th>genres</th>\n",
       "      <th>characters</th>\n",
       "      <th>publisher</th>\n",
       "      <th>awards</th>\n",
       "      <th>likedPercent</th>\n",
       "      <th>coverImg</th>\n",
       "    </tr>\n",
       "  </thead>\n",
       "  <tbody>\n",
       "    <tr>\n",
       "      <th>0</th>\n",
       "      <td>2767052-the-hunger-games</td>\n",
       "      <td>The Hunger Games</td>\n",
       "      <td>Suzanne Collins</td>\n",
       "      <td>4.33</td>\n",
       "      <td>WINNING MEANS FAME AND FORTUNE.LOSING MEANS CE...</td>\n",
       "      <td>English</td>\n",
       "      <td>['Young Adult', 'Fiction', 'Dystopia', 'Fantas...</td>\n",
       "      <td>['Katniss Everdeen', 'Peeta Mellark', 'Cato (H...</td>\n",
       "      <td>Scholastic Press</td>\n",
       "      <td>['Locus Award Nominee for Best Young Adult Boo...</td>\n",
       "      <td>96.0</td>\n",
       "      <td>https://i.gr-assets.com/images/S/compressed.ph...</td>\n",
       "    </tr>\n",
       "    <tr>\n",
       "      <th>1</th>\n",
       "      <td>2.Harry_Potter_and_the_Order_of_the_Phoenix</td>\n",
       "      <td>Harry Potter and the Order of the Phoenix</td>\n",
       "      <td>J.K. Rowling, Mary GrandPré (Illustrator)</td>\n",
       "      <td>4.50</td>\n",
       "      <td>There is a door at the end of a silent corrido...</td>\n",
       "      <td>English</td>\n",
       "      <td>['Fantasy', 'Young Adult', 'Fiction', 'Magic',...</td>\n",
       "      <td>['Sirius Black', 'Draco Malfoy', 'Ron Weasley'...</td>\n",
       "      <td>Scholastic Inc.</td>\n",
       "      <td>['Bram Stoker Award for Works for Young Reader...</td>\n",
       "      <td>98.0</td>\n",
       "      <td>https://i.gr-assets.com/images/S/compressed.ph...</td>\n",
       "    </tr>\n",
       "    <tr>\n",
       "      <th>2</th>\n",
       "      <td>2657.To_Kill_a_Mockingbird</td>\n",
       "      <td>To Kill a Mockingbird</td>\n",
       "      <td>Harper Lee</td>\n",
       "      <td>4.28</td>\n",
       "      <td>The unforgettable novel of a childhood in a sl...</td>\n",
       "      <td>English</td>\n",
       "      <td>['Classics', 'Fiction', 'Historical Fiction', ...</td>\n",
       "      <td>['Scout Finch', 'Atticus Finch', 'Jem Finch', ...</td>\n",
       "      <td>Harper Perennial Modern Classics</td>\n",
       "      <td>['Pulitzer Prize for Fiction (1961)', 'Audie A...</td>\n",
       "      <td>95.0</td>\n",
       "      <td>https://i.gr-assets.com/images/S/compressed.ph...</td>\n",
       "    </tr>\n",
       "    <tr>\n",
       "      <th>3</th>\n",
       "      <td>1885.Pride_and_Prejudice</td>\n",
       "      <td>Pride and Prejudice</td>\n",
       "      <td>Jane Austen, Anna Quindlen (Introduction)</td>\n",
       "      <td>4.26</td>\n",
       "      <td>Alternate cover edition of ISBN 9780679783268S...</td>\n",
       "      <td>English</td>\n",
       "      <td>['Classics', 'Fiction', 'Romance', 'Historical...</td>\n",
       "      <td>['Mr. Bennet', 'Mrs. Bennet', 'Jane Bennet', '...</td>\n",
       "      <td>Modern Library</td>\n",
       "      <td>[]</td>\n",
       "      <td>94.0</td>\n",
       "      <td>https://i.gr-assets.com/images/S/compressed.ph...</td>\n",
       "    </tr>\n",
       "    <tr>\n",
       "      <th>4</th>\n",
       "      <td>41865.Twilight</td>\n",
       "      <td>Twilight</td>\n",
       "      <td>Stephenie Meyer</td>\n",
       "      <td>3.60</td>\n",
       "      <td>About three things I was absolutely positive.\\...</td>\n",
       "      <td>English</td>\n",
       "      <td>['Young Adult', 'Fantasy', 'Romance', 'Vampire...</td>\n",
       "      <td>['Edward Cullen', 'Jacob Black', 'Laurent', 'R...</td>\n",
       "      <td>Little, Brown and Company</td>\n",
       "      <td>['Georgia Peach Book Award (2007)', 'Buxtehude...</td>\n",
       "      <td>78.0</td>\n",
       "      <td>https://i.gr-assets.com/images/S/compressed.ph...</td>\n",
       "    </tr>\n",
       "  </tbody>\n",
       "</table>\n",
       "</div>"
      ],
      "text/plain": [
       "                                        bookId  \\\n",
       "0                     2767052-the-hunger-games   \n",
       "1  2.Harry_Potter_and_the_Order_of_the_Phoenix   \n",
       "2                   2657.To_Kill_a_Mockingbird   \n",
       "3                     1885.Pride_and_Prejudice   \n",
       "4                               41865.Twilight   \n",
       "\n",
       "                                       title  \\\n",
       "0                           The Hunger Games   \n",
       "1  Harry Potter and the Order of the Phoenix   \n",
       "2                      To Kill a Mockingbird   \n",
       "3                        Pride and Prejudice   \n",
       "4                                   Twilight   \n",
       "\n",
       "                                      author  rating  \\\n",
       "0                            Suzanne Collins    4.33   \n",
       "1  J.K. Rowling, Mary GrandPré (Illustrator)    4.50   \n",
       "2                                 Harper Lee    4.28   \n",
       "3  Jane Austen, Anna Quindlen (Introduction)    4.26   \n",
       "4                            Stephenie Meyer    3.60   \n",
       "\n",
       "                                         description language  \\\n",
       "0  WINNING MEANS FAME AND FORTUNE.LOSING MEANS CE...  English   \n",
       "1  There is a door at the end of a silent corrido...  English   \n",
       "2  The unforgettable novel of a childhood in a sl...  English   \n",
       "3  Alternate cover edition of ISBN 9780679783268S...  English   \n",
       "4  About three things I was absolutely positive.\\...  English   \n",
       "\n",
       "                                              genres  \\\n",
       "0  ['Young Adult', 'Fiction', 'Dystopia', 'Fantas...   \n",
       "1  ['Fantasy', 'Young Adult', 'Fiction', 'Magic',...   \n",
       "2  ['Classics', 'Fiction', 'Historical Fiction', ...   \n",
       "3  ['Classics', 'Fiction', 'Romance', 'Historical...   \n",
       "4  ['Young Adult', 'Fantasy', 'Romance', 'Vampire...   \n",
       "\n",
       "                                          characters  \\\n",
       "0  ['Katniss Everdeen', 'Peeta Mellark', 'Cato (H...   \n",
       "1  ['Sirius Black', 'Draco Malfoy', 'Ron Weasley'...   \n",
       "2  ['Scout Finch', 'Atticus Finch', 'Jem Finch', ...   \n",
       "3  ['Mr. Bennet', 'Mrs. Bennet', 'Jane Bennet', '...   \n",
       "4  ['Edward Cullen', 'Jacob Black', 'Laurent', 'R...   \n",
       "\n",
       "                          publisher  \\\n",
       "0                  Scholastic Press   \n",
       "1                   Scholastic Inc.   \n",
       "2  Harper Perennial Modern Classics   \n",
       "3                    Modern Library   \n",
       "4         Little, Brown and Company   \n",
       "\n",
       "                                              awards  likedPercent  \\\n",
       "0  ['Locus Award Nominee for Best Young Adult Boo...          96.0   \n",
       "1  ['Bram Stoker Award for Works for Young Reader...          98.0   \n",
       "2  ['Pulitzer Prize for Fiction (1961)', 'Audie A...          95.0   \n",
       "3                                                 []          94.0   \n",
       "4  ['Georgia Peach Book Award (2007)', 'Buxtehude...          78.0   \n",
       "\n",
       "                                            coverImg  \n",
       "0  https://i.gr-assets.com/images/S/compressed.ph...  \n",
       "1  https://i.gr-assets.com/images/S/compressed.ph...  \n",
       "2  https://i.gr-assets.com/images/S/compressed.ph...  \n",
       "3  https://i.gr-assets.com/images/S/compressed.ph...  \n",
       "4  https://i.gr-assets.com/images/S/compressed.ph...  "
      ]
     },
     "execution_count": 38,
     "metadata": {},
     "output_type": "execute_result"
    }
   ],
   "source": [
    "df.head()"
   ]
  },
  {
   "cell_type": "code",
   "execution_count": 39,
   "id": "e9dc20fc",
   "metadata": {},
   "outputs": [
    {
     "data": {
      "text/plain": [
       "Index(['bookId', 'title', 'author', 'rating', 'description', 'language',\n",
       "       'genres', 'characters', 'publisher', 'awards', 'likedPercent',\n",
       "       'coverImg'],\n",
       "      dtype='object')"
      ]
     },
     "execution_count": 39,
     "metadata": {},
     "output_type": "execute_result"
    }
   ],
   "source": [
    "df.columns"
   ]
  },
  {
   "cell_type": "code",
   "execution_count": 40,
   "id": "0c965c93",
   "metadata": {},
   "outputs": [
    {
     "name": "stdout",
     "output_type": "stream",
     "text": [
      "<class 'pandas.core.frame.DataFrame'>\n",
      "RangeIndex: 52478 entries, 0 to 52477\n",
      "Data columns (total 12 columns):\n",
      " #   Column        Non-Null Count  Dtype  \n",
      "---  ------        --------------  -----  \n",
      " 0   bookId        52478 non-null  object \n",
      " 1   title         52478 non-null  object \n",
      " 2   author        52478 non-null  object \n",
      " 3   rating        52478 non-null  float64\n",
      " 4   description   51140 non-null  object \n",
      " 5   language      48672 non-null  object \n",
      " 6   genres        52478 non-null  object \n",
      " 7   characters    52478 non-null  object \n",
      " 8   publisher     48782 non-null  object \n",
      " 9   awards        52478 non-null  object \n",
      " 10  likedPercent  51856 non-null  float64\n",
      " 11  coverImg      51873 non-null  object \n",
      "dtypes: float64(2), object(10)\n",
      "memory usage: 4.8+ MB\n"
     ]
    }
   ],
   "source": [
    "df.info()"
   ]
  },
  {
   "cell_type": "code",
   "execution_count": 41,
   "id": "5f3cc17a",
   "metadata": {},
   "outputs": [
    {
     "data": {
      "text/plain": [
       "bookId             0\n",
       "title              0\n",
       "author             0\n",
       "rating             0\n",
       "description     1338\n",
       "language        3806\n",
       "genres             0\n",
       "characters         0\n",
       "publisher       3696\n",
       "awards             0\n",
       "likedPercent     622\n",
       "coverImg         605\n",
       "dtype: int64"
      ]
     },
     "execution_count": 41,
     "metadata": {},
     "output_type": "execute_result"
    }
   ],
   "source": [
    "df.isna().sum()"
   ]
  },
  {
   "cell_type": "code",
   "execution_count": 42,
   "id": "d9275356",
   "metadata": {},
   "outputs": [],
   "source": [
    "df.dropna(subset=['description'], inplace=True)"
   ]
  },
  {
   "cell_type": "code",
   "execution_count": 43,
   "id": "53fc1755",
   "metadata": {},
   "outputs": [
    {
     "data": {
      "text/plain": [
       "bookId             0\n",
       "title              0\n",
       "author             0\n",
       "rating             0\n",
       "description        0\n",
       "language        3473\n",
       "genres             0\n",
       "characters         0\n",
       "publisher       3387\n",
       "awards             0\n",
       "likedPercent     510\n",
       "coverImg         382\n",
       "dtype: int64"
      ]
     },
     "execution_count": 43,
     "metadata": {},
     "output_type": "execute_result"
    }
   ],
   "source": [
    "df.isna().sum()"
   ]
  },
  {
   "cell_type": "code",
   "execution_count": 44,
   "id": "c4e2c046",
   "metadata": {},
   "outputs": [],
   "source": [
    "df = df[df['language'] == 'English']"
   ]
  },
  {
   "cell_type": "code",
   "execution_count": 45,
   "id": "8482f7f2",
   "metadata": {},
   "outputs": [
    {
     "data": {
      "text/plain": [
       "array(['English'], dtype=object)"
      ]
     },
     "execution_count": 45,
     "metadata": {},
     "output_type": "execute_result"
    }
   ],
   "source": [
    "df['language'].unique()"
   ]
  },
  {
   "cell_type": "code",
   "execution_count": 47,
   "id": "e196fda4",
   "metadata": {},
   "outputs": [
    {
     "name": "stdout",
     "output_type": "stream",
     "text": [
      "<class 'pandas.core.frame.DataFrame'>\n",
      "Index: 42151 entries, 0 to 52477\n",
      "Data columns (total 12 columns):\n",
      " #   Column        Non-Null Count  Dtype  \n",
      "---  ------        --------------  -----  \n",
      " 0   bookId        42151 non-null  object \n",
      " 1   title         42151 non-null  object \n",
      " 2   author        42151 non-null  object \n",
      " 3   rating        42151 non-null  float64\n",
      " 4   description   42151 non-null  object \n",
      " 5   language      42151 non-null  object \n",
      " 6   genres        42151 non-null  object \n",
      " 7   characters    42151 non-null  object \n",
      " 8   publisher     39762 non-null  object \n",
      " 9   awards        42151 non-null  object \n",
      " 10  likedPercent  41830 non-null  float64\n",
      " 11  coverImg      41971 non-null  object \n",
      "dtypes: float64(2), object(10)\n",
      "memory usage: 4.2+ MB\n"
     ]
    }
   ],
   "source": [
    "df.info()"
   ]
  },
  {
   "cell_type": "code",
   "execution_count": 48,
   "id": "73f95cfd",
   "metadata": {},
   "outputs": [],
   "source": [
    "df.to_csv('Best_books_ever[Cleaned].csv')"
   ]
  }
 ],
 "metadata": {
  "kernelspec": {
   "display_name": "Python 3",
   "language": "python",
   "name": "python3"
  },
  "language_info": {
   "codemirror_mode": {
    "name": "ipython",
    "version": 3
   },
   "file_extension": ".py",
   "mimetype": "text/x-python",
   "name": "python",
   "nbconvert_exporter": "python",
   "pygments_lexer": "ipython3",
   "version": "3.10.12"
  }
 },
 "nbformat": 4,
 "nbformat_minor": 5
}
